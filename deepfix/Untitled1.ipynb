{
 "cells": [
  {
   "cell_type": "code",
   "execution_count": 1,
   "id": "b8c646de",
   "metadata": {},
   "outputs": [
    {
     "name": "stdout",
     "output_type": "stream",
     "text": [
      "CNN+SVM.ipynb\n",
      "Code-Copy4.ipynb\n",
      "Code-Copy_efficientnet-b0_imagenet.ipynb\n",
      "Code-Copy_efficientnet-b1_imagenet.ipynb\n",
      "Code-Copy_effnetv2_pretrained.ipynb\n",
      "Code-Copy_resnet18_imagenet.ipynb\n",
      "Code-Copy_resnet50_imagenet.ipynb\n",
      "Code-Copy_wavelet_patch_128.ipynb\n",
      "Code-Copy_wavelet_patch_256.ipynb\n",
      "Code-Copy_wavelet_patch_32-Copy1.ipynb\n",
      "Code-Copy_wavelet_patch_32.ipynb\n",
      "Code-Copy_wavelet_patch_64-Copy1.ipynb\n",
      "Code-Copy_wavelet_patch_64.ipynb\n",
      "Code-Copy_waveletres18_imagenet.ipynb\n",
      "Code.ipynb\n",
      "Untitled.ipynb\n",
      "Untitled1.ipynb\n",
      "Visualizations.ipynb\n",
      "Visualizations_latest.ipynb\n",
      "__pycache__/\n",
      "__pycache__/weight_saliency.cpython-39.pyc\n",
      "__pycache__/init_from_distribution.cpython-39.pyc\n",
      "__pycache__/deepfix_strategies.cpython-39.pyc\n",
      "analyze_layer.py\n",
      "deepfix_strategies.py\n",
      "feature_csv/\n",
      "feature_csv/vgg16_x_test.csv\n",
      "^C\n"
     ]
    }
   ],
   "source": [
    "!tar chvfz notebook.tar.gz *"
   ]
  },
  {
   "cell_type": "code",
   "execution_count": null,
   "id": "117ef79b",
   "metadata": {},
   "outputs": [],
   "source": []
  }
 ],
 "metadata": {
  "kernelspec": {
   "display_name": "Python 3 (ipykernel)",
   "language": "python",
   "name": "python3"
  },
  "language_info": {
   "codemirror_mode": {
    "name": "ipython",
    "version": 3
   },
   "file_extension": ".py",
   "mimetype": "text/x-python",
   "name": "python",
   "nbconvert_exporter": "python",
   "pygments_lexer": "ipython3",
   "version": "3.9.7"
  }
 },
 "nbformat": 4,
 "nbformat_minor": 5
}
